{
 "cells": [
  {
   "cell_type": "code",
   "execution_count": 1,
   "metadata": {},
   "outputs": [],
   "source": [
    "import numpy"
   ]
  },
  {
   "cell_type": "code",
   "execution_count": 2,
   "metadata": {},
   "outputs": [],
   "source": [
    "import numpy as np"
   ]
  },
  {
   "cell_type": "code",
   "execution_count": 3,
   "metadata": {},
   "outputs": [
    {
     "name": "stdout",
     "output_type": "stream",
     "text": [
      "[0 1 2 3 4 5]\n"
     ]
    }
   ],
   "source": [
    "import numpy as np\n",
    "\n",
    "a = np.array([0, 1, 2, 3, 4, 5])\n",
    "# Python의 리스트로부터 Numpy 배열을 만든다.\n",
    "print(a)"
   ]
  },
  {
   "cell_type": "code",
   "execution_count": 5,
   "metadata": {},
   "outputs": [
    {
     "name": "stdout",
     "output_type": "stream",
     "text": [
      "[[0 1 2]\n",
      " [3 4 5]]\n"
     ]
    }
   ],
   "source": [
    "import numpy as np\n",
    "\n",
    "b = np.array([[0, 1, 2], [3, 4, 5]])\n",
    "# 2중 리스트로부터 Numpy 2차원 배열을 만든다.\n",
    "print(b)"
   ]
  },
  {
   "cell_type": "code",
   "execution_count": 7,
   "metadata": {},
   "outputs": [
    {
     "name": "stdout",
     "output_type": "stream",
     "text": [
      "[[[0 1 2]\n",
      "  [3 4 5]]\n",
      "\n",
      " [[5 4 3]\n",
      "  [2 1 0]]]\n"
     ]
    }
   ],
   "source": [
    "import numpy as np\n",
    "\n",
    "c = np.array([[[0, 1, 2], [3, 4, 5]],[[5, 4, 3], [2, 1, 0]]])\n",
    "# 3중 리스트로부터 Numpy 3차원 배열을 만든다.\n",
    "print(c)"
   ]
  },
  {
   "cell_type": "code",
   "execution_count": 11,
   "metadata": {},
   "outputs": [
    {
     "name": "stdout",
     "output_type": "stream",
     "text": [
      "[0. 0. 0. 0. 0. 0. 0. 0.]\n",
      "[1. 1. 1. 1. 1. 1. 1. 1.]\n",
      "[0 1 2 3 4 5 6 7]\n"
     ]
    }
   ],
   "source": [
    "import numpy as np\n",
    "\n",
    "d = np.zeros(8) # 0이 8개 저장된 배열\n",
    "print(d)\n",
    "\n",
    "e = np.ones(8) # 1이 8개 저장된 배열\n",
    "print(e)\n",
    "\n",
    "f = np.arange(8) # 0부터 7까지 저장된 배열\n",
    "print(f)"
   ]
  },
  {
   "cell_type": "code",
   "execution_count": 13,
   "metadata": {},
   "outputs": [
    {
     "name": "stdout",
     "output_type": "stream",
     "text": [
      "(2, 3)\n"
     ]
    }
   ],
   "source": [
    "import numpy as np\n",
    "\n",
    "a = np.array([[0, 1, 2], \n",
    "              [3, 4, 5]]) # 2x3의 2차원 배열\n",
    "\n",
    "print(np.shape(a)) # a의 형태를 출력(행의 수, 열의 수)\n"
   ]
  },
  {
   "cell_type": "code",
   "execution_count": 14,
   "metadata": {},
   "outputs": [
    {
     "name": "stdout",
     "output_type": "stream",
     "text": [
      "2\n"
     ]
    }
   ],
   "source": [
    "print(len(a)) # a의 행의 수를 얻는다."
   ]
  },
  {
   "cell_type": "code",
   "execution_count": 15,
   "metadata": {},
   "outputs": [
    {
     "name": "stdout",
     "output_type": "stream",
     "text": [
      "[[0 1 2]\n",
      " [3 4 5]]\n",
      "\n",
      "[[3 4 5]\n",
      " [6 7 8]]\n",
      "\n",
      "[[ 0  3  6]\n",
      " [ 9 12 15]]\n"
     ]
    }
   ],
   "source": [
    "import numpy as np\n",
    "\n",
    "a = np.array([[0, 1, 2],\n",
    "              [3, 4, 5]]) # 2차원 배열\n",
    "\n",
    "print(a)\n",
    "print()\n",
    "print(a + 3) # 각 요소에 3을 더한다.\n",
    "print()\n",
    "print(a * 3) # 각 요소에 3을 곱한다.    "
   ]
  },
  {
   "cell_type": "code",
   "execution_count": 16,
   "metadata": {},
   "outputs": [
    {
     "name": "stdout",
     "output_type": "stream",
     "text": [
      "[[0 1 2]\n",
      " [3 4 5]]\n",
      "\n",
      "[[2 0 1]\n",
      " [5 3 4]]\n",
      "\n",
      "[[2 1 3]\n",
      " [8 7 9]]\n",
      "\n",
      "[[ 0  0  2]\n",
      " [15 12 20]]\n"
     ]
    }
   ],
   "source": [
    "b = np.array([[0, 1, 2],\n",
    "              [3, 4, 5]]) # 2차원 배열\n",
    "\n",
    "c = np.array([[2, 0, 1],\n",
    "             [5, 3, 4]]) # 2차원 배열\n",
    "\n",
    "print(b)\n",
    "print()\n",
    "print(c)\n",
    "print()\n",
    "print(b + c) \n",
    "print()\n",
    "print(b * c)"
   ]
  },
  {
   "cell_type": "code",
   "execution_count": 17,
   "metadata": {},
   "outputs": [
    {
     "name": "stdout",
     "output_type": "stream",
     "text": [
      "4\n"
     ]
    }
   ],
   "source": [
    "import numpy as np\n",
    "\n",
    "a = np.array([1, 2, 3, 4, 5])\n",
    "print(a[3]) # 인덱스를 지정"
   ]
  },
  {
   "cell_type": "code",
   "execution_count": 18,
   "metadata": {},
   "outputs": [
    {
     "name": "stdout",
     "output_type": "stream",
     "text": [
      "[1 2 9 4 5]\n"
     ]
    }
   ],
   "source": [
    "a[2] = 9\n",
    "print(a)\n"
   ]
  },
  {
   "cell_type": "code",
   "execution_count": 20,
   "metadata": {},
   "outputs": [
    {
     "name": "stdout",
     "output_type": "stream",
     "text": [
      "5\n"
     ]
    }
   ],
   "source": [
    "b = np.array([[0, 1, 2],\n",
    "             [3, 4, 5]])\n",
    "\n",
    "print(b[1, 2]) # b[1][2]와 같다."
   ]
  },
  {
   "cell_type": "code",
   "execution_count": 21,
   "metadata": {},
   "outputs": [
    {
     "name": "stdout",
     "output_type": "stream",
     "text": [
      "[[0 1 2]\n",
      " [3 4 9]]\n"
     ]
    }
   ],
   "source": [
    "b[1, 2] = 9\n",
    "\n",
    "print(b)"
   ]
  },
  {
   "cell_type": "code",
   "execution_count": 23,
   "metadata": {},
   "outputs": [
    {
     "name": "stdout",
     "output_type": "stream",
     "text": [
      "[3 4 5]\n",
      "\n",
      "[[0 6 2]\n",
      " [3 7 5]]\n"
     ]
    }
   ],
   "source": [
    "c = np.array([[0, 1, 2],\n",
    "              [3, 4, 5]])\n",
    "\n",
    "print(c[1, :]) # 인덱스가 1인 행을 취득\n",
    "\n",
    "print()\n",
    "\n",
    "c[:, 1] = np.array([6, 7]) # 인덱스가 1인 열을 교체\n",
    "print(c)"
   ]
  },
  {
   "cell_type": "code",
   "execution_count": 24,
   "metadata": {},
   "outputs": [
    {
     "name": "stdout",
     "output_type": "stream",
     "text": [
      "[[ 1  3  5]\n",
      " [ 7  9 11]]\n"
     ]
    }
   ],
   "source": [
    "import numpy as np\n",
    "\n",
    "def my_func(x):\n",
    "    y = x * 2 + 1\n",
    "    return y\n",
    "\n",
    "a = np.array([[0, 1, 2],\n",
    "              [3, 4, 5]]) #2차원 배열\n",
    "b = my_func(a) # 인수로서 배열을 전달, 반환값으로서 배열을 받는다.\n",
    "\n",
    "print(b)"
   ]
  },
  {
   "cell_type": "code",
   "execution_count": 25,
   "metadata": {},
   "outputs": [
    {
     "name": "stdout",
     "output_type": "stream",
     "text": [
      "합계: 15\n",
      "평균값: 2.5\n",
      "최댓값: 5\n",
      "최솟값: 0\n"
     ]
    }
   ],
   "source": [
    "import numpy as np \n",
    "\n",
    "a = np.array([[0, 1, 2],\n",
    "              [3, 4, 5]]) # 2차원 배열\n",
    "\n",
    "print(\"합계:\", np.sum(a))\n",
    "print(\"평균값:\", np.average(a))\n",
    "print(\"최댓값:\", np.max(a))\n",
    "print(\"최솟값:\", np.min(a))"
   ]
  },
  {
   "cell_type": "code",
   "execution_count": 26,
   "metadata": {},
   "outputs": [
    {
     "name": "stdout",
     "output_type": "stream",
     "text": [
      "[[5 5 5]\n",
      " [5 5 5]]\n",
      "\n",
      "[[-5 -3 -1]\n",
      " [ 1  3  5]]\n",
      "\n",
      "[[0 4 6]\n",
      " [6 4 0]]\n"
     ]
    }
   ],
   "source": [
    "import numpy as np\n",
    "\n",
    "a = np.array([[0, 1, 2],\n",
    "              [3, 4, 5]]) # 2차원 배열\n",
    "b = np.array([[5, 4, 3],\n",
    "              [2, 1, 0]]) # 2차원 배열\n",
    "\n",
    "print(a + b) # 합\n",
    "print()\n",
    "print(a - b) # 차\n",
    "print()\n",
    "print(a * b) # 곱"
   ]
  },
  {
   "cell_type": "code",
   "execution_count": null,
   "metadata": {},
   "outputs": [],
   "source": []
  }
 ],
 "metadata": {
  "kernelspec": {
   "display_name": "yeardream",
   "language": "python",
   "name": "python3"
  },
  "language_info": {
   "codemirror_mode": {
    "name": "ipython",
    "version": 3
   },
   "file_extension": ".py",
   "mimetype": "text/x-python",
   "name": "python",
   "nbconvert_exporter": "python",
   "pygments_lexer": "ipython3",
   "version": "3.9.19"
  }
 },
 "nbformat": 4,
 "nbformat_minor": 2
}
